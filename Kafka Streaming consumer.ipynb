{
 "cells": [
  {
   "cell_type": "code",
   "execution_count": 0,
   "metadata": {
    "application/vnd.databricks.v1+cell": {
     "cellMetadata": {
      "byteLimit": 2048000,
      "rowLimit": 10000
     },
     "inputWidgets": {},
     "nuid": "f77c19aa-bff7-44e5-b729-48a65fc25e2b",
     "showTitle": false,
     "title": ""
    }
   },
   "outputs": [
    {
     "output_type": "display_data",
     "data": {
      "text/html": [
       "<style scoped>\n",
       "  .table-result-container {\n",
       "    max-height: 300px;\n",
       "    overflow: auto;\n",
       "  }\n",
       "  table, th, td {\n",
       "    border: 1px solid black;\n",
       "    border-collapse: collapse;\n",
       "  }\n",
       "  th, td {\n",
       "    padding: 5px;\n",
       "  }\n",
       "  th {\n",
       "    text-align: left;\n",
       "  }\n",
       "</style><div class='table-result-container'><table class='table-result'><thead style='background-color: white'><tr><th>num1</th><th>num2</th></tr></thead><tbody><tr><td>1</td><td>3</td></tr><tr><td>2</td><td>4</td></tr><tr><td>3</td><td>5</td></tr><tr><td>4</td><td>6</td></tr><tr><td>5</td><td>7</td></tr><tr><td>6</td><td>8</td></tr><tr><td>7</td><td>9</td></tr><tr><td>8</td><td>10</td></tr><tr><td>9</td><td>11</td></tr><tr><td>10</td><td>12</td></tr><tr><td>11</td><td>13</td></tr><tr><td>12</td><td>14</td></tr><tr><td>13</td><td>15</td></tr><tr><td>14</td><td>16</td></tr><tr><td>15</td><td>17</td></tr><tr><td>16</td><td>18</td></tr><tr><td>17</td><td>19</td></tr><tr><td>18</td><td>20</td></tr><tr><td>19</td><td>21</td></tr><tr><td>20</td><td>22</td></tr><tr><td>21</td><td>23</td></tr><tr><td>22</td><td>24</td></tr><tr><td>23</td><td>25</td></tr><tr><td>24</td><td>26</td></tr><tr><td>25</td><td>27</td></tr><tr><td>26</td><td>28</td></tr><tr><td>27</td><td>29</td></tr><tr><td>28</td><td>30</td></tr><tr><td>29</td><td>31</td></tr><tr><td>30</td><td>32</td></tr><tr><td>31</td><td>33</td></tr><tr><td>32</td><td>34</td></tr><tr><td>33</td><td>35</td></tr><tr><td>34</td><td>36</td></tr><tr><td>35</td><td>37</td></tr><tr><td>36</td><td>38</td></tr><tr><td>37</td><td>39</td></tr><tr><td>38</td><td>40</td></tr><tr><td>39</td><td>41</td></tr><tr><td>40</td><td>42</td></tr><tr><td>41</td><td>43</td></tr><tr><td>42</td><td>44</td></tr><tr><td>43</td><td>45</td></tr><tr><td>44</td><td>46</td></tr><tr><td>45</td><td>47</td></tr><tr><td>46</td><td>48</td></tr><tr><td>47</td><td>49</td></tr><tr><td>48</td><td>50</td></tr></tbody></table></div>"
      ]
     },
     "metadata": {
      "application/vnd.databricks.v1+output": {
       "addedWidgets": {},
       "aggData": [],
       "aggError": "",
       "aggOverflow": false,
       "aggSchema": [],
       "aggSeriesLimitReached": false,
       "aggType": "",
       "arguments": {},
       "columnCustomDisplayInfos": {},
       "data": [
        [
         "1",
         "3"
        ],
        [
         "2",
         "4"
        ],
        [
         "3",
         "5"
        ],
        [
         "4",
         "6"
        ],
        [
         "5",
         "7"
        ],
        [
         "6",
         "8"
        ],
        [
         "7",
         "9"
        ],
        [
         "8",
         "10"
        ],
        [
         "9",
         "11"
        ],
        [
         "10",
         "12"
        ],
        [
         "11",
         "13"
        ],
        [
         "12",
         "14"
        ],
        [
         "13",
         "15"
        ],
        [
         "14",
         "16"
        ],
        [
         "15",
         "17"
        ],
        [
         "16",
         "18"
        ],
        [
         "17",
         "19"
        ],
        [
         "18",
         "20"
        ],
        [
         "19",
         "21"
        ],
        [
         "20",
         "22"
        ],
        [
         "21",
         "23"
        ],
        [
         "22",
         "24"
        ],
        [
         "23",
         "25"
        ],
        [
         "24",
         "26"
        ],
        [
         "25",
         "27"
        ],
        [
         "26",
         "28"
        ],
        [
         "27",
         "29"
        ],
        [
         "28",
         "30"
        ],
        [
         "29",
         "31"
        ],
        [
         "30",
         "32"
        ],
        [
         "31",
         "33"
        ],
        [
         "32",
         "34"
        ],
        [
         "33",
         "35"
        ],
        [
         "34",
         "36"
        ],
        [
         "35",
         "37"
        ],
        [
         "36",
         "38"
        ],
        [
         "37",
         "39"
        ],
        [
         "38",
         "40"
        ],
        [
         "39",
         "41"
        ],
        [
         "40",
         "42"
        ],
        [
         "41",
         "43"
        ],
        [
         "42",
         "44"
        ],
        [
         "43",
         "45"
        ],
        [
         "44",
         "46"
        ],
        [
         "45",
         "47"
        ],
        [
         "46",
         "48"
        ],
        [
         "47",
         "49"
        ],
        [
         "48",
         "50"
        ]
       ],
       "datasetInfos": [],
       "dbfsResultPath": null,
       "isJsonSchema": true,
       "metadata": {
        "isDbfsCommandResult": false
       },
       "overflow": false,
       "plotOptions": {
        "customPlotOptions": {},
        "displayType": "table",
        "pivotAggregation": null,
        "pivotColumns": null,
        "xColumns": null,
        "yColumns": null
       },
       "removedWidgets": [],
       "schema": [
        {
         "metadata": "{}",
         "name": "num1",
         "type": "\"string\""
        },
        {
         "metadata": "{}",
         "name": "num2",
         "type": "\"string\""
        }
       ],
       "type": "table"
      }
     },
     "output_type": "display_data"
    }
   ],
   "source": [
    "# Databricks notebook source\n",
    "import pyspark.sql.functions as F\n",
    "from  pyspark.sql.functions import col, struct, to_json\n",
    "from pyspark.sql.types import StructField, StructType, StringType, MapType\n",
    "\n",
    "# COMMAND ----------\n",
    "\n",
    "df = spark \\\n",
    "    .readStream \\\n",
    "    .format(\"kafka\") \\\n",
    "    .option(\"kafka.bootstrap.servers\", \"pkc-56d1g.eastus.azure.confluent.cloud:9092\") \\\n",
    "      .option(\"subscribe\", \"AjinkyasTopic\") \\\n",
    "      .option(\"startingOffsets\", \"earliest\") \\\n",
    "      .option(\"kafka.security.protocol\",\"SASL_SSL\") \\\n",
    "      .option(\"kafka.sasl.mechanism\", \"PLAIN\") \\\n",
    "      .option(\"kafka.sasl.jaas.config\", \"\"\"kafkashaded.org.apache.kafka.common.security.plain.PlainLoginModule required username=\"NNSAPRCSUYG5N5PN\" password=\"PGgiDzAi6nveodMEHTO/9RjnDTBHk77lNxWHObOwWW+pN81+nAAD0nOWkGOi3FaH\";\"\"\") \\\n",
    "    .load()\n",
    "\n",
    "\n",
    "# COMMAND ----------\n",
    "\n",
    "json_schema = StructType(\n",
    "    [   StructField(\"num1\", StringType()),\n",
    "        StructField(\"num2\", StringType())\n",
    "    ]\n",
    ")\n",
    "\n",
    "# COMMAND ----------\n",
    "\n",
    "df3 = df.withColumn('value', F.from_json(F.col('value').cast('string'), json_schema))  \\\n",
    "      .select(F.col(\"value.num1\"),F.col(\"value.num2\")) \n",
    "display(df3)"
   ]
  }
 ],
 "metadata": {
  "application/vnd.databricks.v1+notebook": {
   "dashboards": [],
   "language": "python",
   "notebookMetadata": {
    "pythonIndentUnit": 4
   },
   "notebookName": "Kafka Streaming consumer",
   "widgets": {}
  }
 },
 "nbformat": 4,
 "nbformat_minor": 0
}
